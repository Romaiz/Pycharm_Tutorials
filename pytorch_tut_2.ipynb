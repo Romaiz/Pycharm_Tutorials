{
  "nbformat": 4,
  "nbformat_minor": 0,
  "metadata": {
    "colab": {
      "provenance": [],
      "authorship_tag": "ABX9TyOqdZfvdOta3BJ4ahKnttdR",
      "include_colab_link": true
    },
    "kernelspec": {
      "name": "python3",
      "display_name": "Python 3"
    },
    "language_info": {
      "name": "python"
    }
  },
  "cells": [
    {
      "cell_type": "markdown",
      "metadata": {
        "id": "view-in-github",
        "colab_type": "text"
      },
      "source": [
        "<a href=\"https://colab.research.google.com/github/Romaiz/Pycharm_Tutorials/blob/main/pytorch_tut_2.ipynb\" target=\"_parent\"><img src=\"https://colab.research.google.com/assets/colab-badge.svg\" alt=\"Open In Colab\"/></a>"
      ]
    },
    {
      "cell_type": "code",
      "execution_count": 4,
      "metadata": {
        "id": "MrceDMQIgu4B"
      },
      "outputs": [],
      "source": [
        "import torch \n",
        "import torch.nn as nn\n",
        "from torch.optim import SGD\n",
        "import numpy as np\n",
        "import matplotlib.pyplot as plt\n"
      ]
    },
    {
      "cell_type": "code",
      "source": [
        "x = torch.tensor([[1,2,3,-4,5,0,-1], [2,2,-3,-5,12,1,7]])\n",
        "x"
      ],
      "metadata": {
        "colab": {
          "base_uri": "https://localhost:8080/"
        },
        "id": "Vo4w8GBVg9q8",
        "outputId": "dd8e78f9-0ab6-49be-9dd6-3f7ae5ea4c6b"
      },
      "execution_count": 5,
      "outputs": [
        {
          "output_type": "execute_result",
          "data": {
            "text/plain": [
              "tensor([[ 1,  2,  3, -4,  5,  0, -1],\n",
              "        [ 2,  2, -3, -5, 12,  1,  7]])"
            ]
          },
          "metadata": {},
          "execution_count": 5
        }
      ]
    },
    {
      "cell_type": "code",
      "source": [
        "R = nn.ReLU()\n",
        "R(x)"
      ],
      "metadata": {
        "colab": {
          "base_uri": "https://localhost:8080/"
        },
        "id": "lh1IWF1bitsw",
        "outputId": "dc27c431-d154-4b6b-ab4b-dac1b135f038"
      },
      "execution_count": 7,
      "outputs": [
        {
          "output_type": "execute_result",
          "data": {
            "text/plain": [
              "tensor([[ 1,  2,  3,  0,  5,  0,  0],\n",
              "        [ 2,  2,  0,  0, 12,  1,  7]])"
            ]
          },
          "metadata": {},
          "execution_count": 7
        }
      ]
    },
    {
      "cell_type": "code",
      "source": [
        "x = torch.linspace(-3,3,1000)\n",
        "y = R(x)\n",
        "plt.plot(x.numpy(), y.numpy())\n",
        "plt.grid()\n",
        "plt.show()"
      ],
      "metadata": {
        "colab": {
          "base_uri": "https://localhost:8080/",
          "height": 430
        },
        "id": "vPIpfvBNi185",
        "outputId": "d74039d1-ce67-4212-dcb6-926883d60c94"
      },
      "execution_count": 12,
      "outputs": [
        {
          "output_type": "display_data",
          "data": {
            "text/plain": [
              "<Figure size 640x480 with 1 Axes>"
            ],
            "image/png": "[encoded data removed]"
          },
          "metadata": {}
        }
      ]
    },
    {
      "cell_type": "code",
      "source": [
        "class myNeuralNetwork(nn.Module):\n",
        "  def __init__(self):\n",
        "    super().__init__()\n",
        "    self.Matrix1 = nn.Linear(2,10,bias=False)\n",
        "    self.Matrix2 = nn.Linear(10,1,bias=False)\n",
        "    self.R = nn.ReLU()\n",
        "  def forward(self, x):\n",
        "    x = self.R(self.Matrix1(x))\n",
        "    x = self.Matrix2(x)\n",
        "    return x.squeeze()"
      ],
      "metadata": {
        "id": "qkCsbrWojoqm"
      },
      "execution_count": 21,
      "outputs": []
    },
    {
      "cell_type": "code",
      "source": [
        "def train_model(x,y,f,n_epochs = 50):\n",
        "  optimizer = SGD(f.parameters(), lr=0.001)\n",
        "  L = nn.MSELoss()\n",
        "\n",
        "  losses = []\n",
        "  for _ in range(n_epochs):\n",
        "    optimizer.zero_grad()\n",
        "    loss_value = L(f(x), y)\n",
        "    loss_value.backward()\n",
        "    optimizer.step()\n",
        "    losses.append(loss_value.item())\n",
        "  return f, losses"
      ],
      "metadata": {
        "id": "SMai5purk9at"
      },
      "execution_count": 24,
      "outputs": []
    },
    {
      "cell_type": "code",
      "source": [
        "x = torch.tensor([[6,2], [5,4], [5,9], [5,6], [6,0], [5,7]]).float()\n",
        "y = torch.tensor([75, 61, 59, 63, 68, 65]).float()\n",
        "f = myNeuralNetwork()\n",
        "f, losses = train_model(x,y,f,n_epochs=5000)"
      ],
      "metadata": {
        "id": "qSK-pWEBl_-t"
      },
      "execution_count": 25,
      "outputs": []
    },
    {
      "cell_type": "code",
      "source": [
        "y"
      ],
      "metadata": {
        "colab": {
          "base_uri": "https://localhost:8080/"
        },
        "id": "ovhOY3_ym16-",
        "outputId": "25a7e7a8-df59-466c-8e08-dd36bb12d66c"
      },
      "execution_count": 26,
      "outputs": [
        {
          "output_type": "execute_result",
          "data": {
            "text/plain": [
              "tensor([75., 61., 59., 63., 68., 65.])"
            ]
          },
          "metadata": {},
          "execution_count": 26
        }
      ]
    },
    {
      "cell_type": "code",
      "source": [
        "f(x)"
      ],
      "metadata": {
        "colab": {
          "base_uri": "https://localhost:8080/"
        },
        "id": "dMvZjnb5ojl4",
        "outputId": "dec321e0-31b7-401f-f224-64f1f4a080b8"
      },
      "execution_count": 27,
      "outputs": [
        {
          "output_type": "execute_result",
          "data": {
            "text/plain": [
              "tensor([74.9914, 62.7612, 61.2202, 62.1448, 67.9924, 61.8366],\n",
              "       grad_fn=<SqueezeBackward0>)"
            ]
          },
          "metadata": {},
          "execution_count": 27
        }
      ]
    },
    {
      "cell_type": "code",
      "source": [
        "class myNewNN(nn.Module):\n",
        "  def __init__(self):\n",
        "    super().__init__()\n",
        "    self.Matrix1 = nn.Linear(2,80)\n",
        "    self.Matrix2 = nn.Linear(80,80)\n",
        "    self.Matrix3 = nn.Linear(80,1)\n",
        "    self.R = nn.ReLU()\n",
        "  def forward(self, x):\n",
        "    x = self.R(self.Matrix1(x))\n",
        "    x = self.R(self.Matrix2(x))\n",
        "    x = self.Matrix3(x)\n",
        "    return x.squeeze()"
      ],
      "metadata": {
        "id": "lSbg9R6Pok0d"
      },
      "execution_count": 35,
      "outputs": []
    },
    {
      "cell_type": "code",
      "source": [
        "f2 = myNewNN()\n",
        "f2, losses = train_model(x,y,f2,n_epochs = 5000)"
      ],
      "metadata": {
        "id": "SXB3m3wWpe7m"
      },
      "execution_count": 36,
      "outputs": []
    },
    {
      "cell_type": "code",
      "source": [
        "y"
      ],
      "metadata": {
        "colab": {
          "base_uri": "https://localhost:8080/"
        },
        "id": "Ji3Vu3FRqeYG",
        "outputId": "72abf0b8-2abe-4af5-b389-a3f4d06cfb9e"
      },
      "execution_count": 31,
      "outputs": [
        {
          "output_type": "execute_result",
          "data": {
            "text/plain": [
              "tensor([75., 61., 59., 63., 68., 65.])"
            ]
          },
          "metadata": {},
          "execution_count": 31
        }
      ]
    },
    {
      "cell_type": "code",
      "source": [
        "f(x)"
      ],
      "metadata": {
        "colab": {
          "base_uri": "https://localhost:8080/"
        },
        "id": "_6_c2l79qgSS",
        "outputId": "28b6700c-b0e8-4279-8f8a-b48dad0feed1"
      },
      "execution_count": 33,
      "outputs": [
        {
          "output_type": "execute_result",
          "data": {
            "text/plain": [
              "tensor([74.9914, 62.7612, 61.2202, 62.1448, 67.9924, 61.8366],\n",
              "       grad_fn=<SqueezeBackward0>)"
            ]
          },
          "metadata": {},
          "execution_count": 33
        }
      ]
    },
    {
      "cell_type": "code",
      "source": [
        "f2(x)"
      ],
      "metadata": {
        "colab": {
          "base_uri": "https://localhost:8080/"
        },
        "id": "e0_ueQRKqhJK",
        "outputId": "db689fad-d111-4d90-aef7-5ade8680c35c"
      },
      "execution_count": 37,
      "outputs": [
        {
          "output_type": "execute_result",
          "data": {
            "text/plain": [
              "tensor([65.1635, 65.1635, 65.1635, 65.1635, 65.1635, 65.1635],\n",
              "       grad_fn=<SqueezeBackward0>)"
            ]
          },
          "metadata": {},
          "execution_count": 37
        }
      ]
    },
    {
      "cell_type": "code",
      "source": [],
      "metadata": {
        "id": "Og58FhrkqlIA"
      },
      "execution_count": null,
      "outputs": []
    }
  ]
}